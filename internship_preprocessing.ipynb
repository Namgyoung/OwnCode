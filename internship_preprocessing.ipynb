{
  "nbformat": 4,
  "nbformat_minor": 0,
  "metadata": {
    "colab": {
      "name": "trial_original.ipynb",
      "provenance": [],
      "authorship_tag": "ABX9TyMA84b0xjJgG69Lh86tSG85",
      "include_colab_link": true
    },
    "kernelspec": {
      "name": "python3",
      "display_name": "Python 3"
    },
    "language_info": {
      "name": "python"
    }
  },
  "cells": [
    {
      "cell_type": "markdown",
      "metadata": {
        "id": "view-in-github",
        "colab_type": "text"
      },
      "source": [
        "<a href=\"https://colab.research.google.com/github/Namgyoung/OwnCode/blob/main/internship_preprocessing.ipynb\" target=\"_parent\"><img src=\"https://colab.research.google.com/assets/colab-badge.svg\" alt=\"Open In Colab\"/></a>"
      ]
    },
    {
      "cell_type": "code",
      "execution_count": null,
      "metadata": {
        "id": "O7V9Iv5Usdn3"
      },
      "outputs": [],
      "source": [
        "import pandas as pd\n",
        "import numpy as np\n",
        "from google.colab import drive\n",
        "drive.mount('/content/drive')\n",
        "base_path = '/content/drive/MyDrive/Colab Notebooks/'"
      ]
    },
    {
      "cell_type": "code",
      "source": [
        "tmp = pd.read_excel(base_path+'sth.xlsx')\n",
        "tmp"
      ],
      "metadata": {
        "id": "zK65Hz-bMWu8"
      },
      "execution_count": null,
      "outputs": []
    },
    {
      "cell_type": "code",
      "source": [
        "tmp = tmp.replace(' ', '*')\n",
        "tmp"
      ],
      "metadata": {
        "id": "dpzWkWaPyaj_"
      },
      "execution_count": null,
      "outputs": []
    },
    {
      "cell_type": "code",
      "source": [
        "#NaN인 셀(#N/A)일 경우 앞 셀로 채우기\n",
        "tmp_col_list=list(tmp.columns[2:])\n",
        "for i in range(len(tmp_col_list)-1):\n",
        "  if tmp_col_list[i][0:4] == tmp_col_list[i+1][0:4]:\n",
        "      tmp.iloc[:, i+3] = tmp.iloc[:, i+3].fillna(tmp.iloc[:,i+2])"
      ],
      "metadata": {
        "id": "2snssak2JzCw"
      },
      "execution_count": null,
      "outputs": []
    },
    {
      "cell_type": "code",
      "source": [
        "tmp"
      ],
      "metadata": {
        "id": "Z3xdh3hQuEn0"
      },
      "execution_count": null,
      "outputs": []
    },
    {
      "cell_type": "code",
      "source": [
        "tmp = tmp.fillna('#N/A')\n",
        "tmp"
      ],
      "metadata": {
        "id": "1LNWs4BRoVEn"
      },
      "execution_count": null,
      "outputs": []
    },
    {
      "cell_type": "code",
      "source": [
        "tmp = tmp.replace('*', np.nan)\n",
        "tmp"
      ],
      "metadata": {
        "id": "GHS_t35mouQd"
      },
      "execution_count": null,
      "outputs": []
    },
    {
      "cell_type": "code",
      "source": [
        "#*인 셀 처리하기\n",
        "for i in range(len(tmp_col_list)-1):\n",
        "  if tmp_col_list[i][0:4] == tmp_col_list[i+1][0:4]:\n",
        "    for index, item in tmp.iloc[:, i+2].items():\n",
        "      if item == '#N/A':\n",
        "        pass\n",
        "      else:\n",
        "        if pd.isna(tmp.iloc[index, i+3]):\n",
        "          tmp.iloc[index, i+3] = tmp.iloc[index,i+2]\n",
        "        else:\n",
        "          pass       \n",
        "  else:\n",
        "    pass"
      ],
      "metadata": {
        "id": "8waMUrKuH8XO"
      },
      "execution_count": null,
      "outputs": []
    },
    {
      "cell_type": "code",
      "source": [
        "tmp"
      ],
      "metadata": {
        "id": "EAWxmqOTqBQ5"
      },
      "execution_count": null,
      "outputs": []
    },
    {
      "cell_type": "code",
      "source": [
        "tmp = tmp.replace(np.nan, ' ')\n",
        "tmp"
      ],
      "metadata": {
        "id": "6zBNCIpfJ5jk"
      },
      "execution_count": null,
      "outputs": []
    },
    {
      "cell_type": "code",
      "source": [
        "#from google.colab import files\n",
        "#tmp.to_excel('check.xlsx')\n",
        "#files.download('check.xlsx')"
      ],
      "metadata": {
        "id": "F6Owc9SIof3h"
      },
      "execution_count": null,
      "outputs": []
    },
    {
      "cell_type": "code",
      "source": [
        "col_list=list(tmp.columns[2:])\n",
        "print(col_list)"
      ],
      "metadata": {
        "id": "rx77UYPtx2n5"
      },
      "execution_count": null,
      "outputs": []
    },
    {
      "cell_type": "code",
      "source": [
        "j=0\n",
        "for i in range(len(col_list)-1):\n",
        "  if col_list[i][0:4] != col_list[i+1][0:4]:\n",
        "    tmp.insert(i+3+j, col_list[i][0:4]+'_final', tmp.iloc[:,i+2+j])\n",
        "    j += 1"
      ],
      "metadata": {
        "id": "_Q6j05vkql8t"
      },
      "execution_count": null,
      "outputs": []
    },
    {
      "cell_type": "code",
      "source": [
        "from google.colab import files\n",
        "tmp.to_excel('sth_final.xlsx')\n",
        "files.download('sth_final.xlsx')"
      ],
      "metadata": {
        "colab": {
          "base_uri": "https://localhost:8080/",
          "height": 34
        },
        "id": "uEHu_7xO-3-T",
        "outputId": "9b8f42b8-c4d5-4324-c51e-6ce9908d9ae1"
      },
      "execution_count": null,
      "outputs": [
        {
          "output_type": "display_data",
          "data": {
            "application/javascript": [
              "\n",
              "    async function download(id, filename, size) {\n",
              "      if (!google.colab.kernel.accessAllowed) {\n",
              "        return;\n",
              "      }\n",
              "      const div = document.createElement('div');\n",
              "      const label = document.createElement('label');\n",
              "      label.textContent = `Downloading \"${filename}\": `;\n",
              "      div.appendChild(label);\n",
              "      const progress = document.createElement('progress');\n",
              "      progress.max = size;\n",
              "      div.appendChild(progress);\n",
              "      document.body.appendChild(div);\n",
              "\n",
              "      const buffers = [];\n",
              "      let downloaded = 0;\n",
              "\n",
              "      const channel = await google.colab.kernel.comms.open(id);\n",
              "      // Send a message to notify the kernel that we're ready.\n",
              "      channel.send({})\n",
              "\n",
              "      for await (const message of channel.messages) {\n",
              "        // Send a message to notify the kernel that we're ready.\n",
              "        channel.send({})\n",
              "        if (message.buffers) {\n",
              "          for (const buffer of message.buffers) {\n",
              "            buffers.push(buffer);\n",
              "            downloaded += buffer.byteLength;\n",
              "            progress.value = downloaded;\n",
              "          }\n",
              "        }\n",
              "      }\n",
              "      const blob = new Blob(buffers, {type: 'application/binary'});\n",
              "      const a = document.createElement('a');\n",
              "      a.href = window.URL.createObjectURL(blob);\n",
              "      a.download = filename;\n",
              "      div.appendChild(a);\n",
              "      a.click();\n",
              "      div.remove();\n",
              "    }\n",
              "  "
            ],
            "text/plain": [
              "<IPython.core.display.Javascript object>"
            ]
          },
          "metadata": {}
        },
        {
          "output_type": "display_data",
          "data": {
            "application/javascript": [
              "download(\"download_4fa76bd2-cbe4-4cbe-a9b3-eb5112d2311d\", \"\\uba3c\\uc9c0 (ton) \\ubc30\\ucd9c\\ub7c9_final.xlsx\", 111582)"
            ],
            "text/plain": [
              "<IPython.core.display.Javascript object>"
            ]
          },
          "metadata": {}
        }
      ]
    }
  ]
}